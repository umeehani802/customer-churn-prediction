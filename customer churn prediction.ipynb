{
 "cells": [
  {
   "cell_type": "markdown",
   "id": "2ddddd84-0ba5-4460-9721-3160ce45ac5c",
   "metadata": {},
   "source": [
    "# 👥 Customer Churn Prediction (Bank Customers)\n",
    "\n",
    "## 📌 Instructions\n",
    "\n",
    "1. **Clean and prepare the dataset**  \n",
    "   - Remove irrelevant columns: `RowNumber`, `CustomerId`, `Surname`  \n",
    "   - Check for missing values and ensure data consistency  \n",
    "\n",
    "2. **Encode categorical features**  \n",
    "   - Apply **Label Encoding** to the `Gender` column  \n",
    "   - Use **One-Hot Encoding** for the `Geography` column  \n",
    "\n",
    "3. **Train a classification model**  \n",
    "   - Split the dataset into training and test sets  \n",
    "   - Train a **supervised classification model** (e.g., Random Forest, Logistic Regression)  \n",
    "   - Evaluate model performance using accuracy and classification metrics  \n",
    "\n",
    "4. **Analyze feature importance**  \n",
    "   - Use the model’s feature importance to identify key churn drivers  \n",
    "   - Visualize feature importance with a bar chart  \n",
    "\n",
    "---\n",
    "\n",
    "## 🧠 Skills \n",
    "\n",
    "- 🔄 **Categorical Data Encoding**  \n",
    "  - Label Encoding (`Gender`)  \n",
    "  - One-Hot Encoding (`Geography`)  \n",
    "\n",
    "- 🤖 **Supervised Classification Modeling**  \n",
    "  - Train/test split  \n",
    "  - Classification model training and evaluation  \n",
    "  - Model metrics: Accuracy, Precision, Recall, F1-score  \n",
    "\n",
    "- 📊 **Feature Importance Analysis**  \n",
    "  - Analyze key features that influence churn  \n",
    "  - Visualize feature weights using plots  \n"
   ]
  },
  {
   "cell_type": "code",
   "execution_count": 15,
   "id": "8b4ac730-4537-4a0d-996b-e446720f26f1",
   "metadata": {},
   "outputs": [],
   "source": [
    "# 📦 Step 1: Import Required Libraries\n",
    "import pandas as pd\n",
    "import numpy as np\n",
    "import matplotlib.pyplot as plt\n",
    "import seaborn as sns\n",
    "\n",
    "from sklearn.preprocessing import LabelEncoder\n",
    "from sklearn.preprocessing import StandardScaler\n",
    "from sklearn.model_selection import train_test_split\n",
    "from sklearn.linear_model import LogisticRegression\n",
    "from sklearn.ensemble import RandomForestClassifier\n",
    "from sklearn.metrics import accuracy_score, classification_report, confusion_matrix\n"
   ]
  },
  {
   "cell_type": "code",
   "execution_count": 4,
   "id": "8c8894f7-36e2-4f26-a379-53ef39ec2356",
   "metadata": {},
   "outputs": [
    {
     "data": {
      "text/html": [
       "<div>\n",
       "<style scoped>\n",
       "    .dataframe tbody tr th:only-of-type {\n",
       "        vertical-align: middle;\n",
       "    }\n",
       "\n",
       "    .dataframe tbody tr th {\n",
       "        vertical-align: top;\n",
       "    }\n",
       "\n",
       "    .dataframe thead th {\n",
       "        text-align: right;\n",
       "    }\n",
       "</style>\n",
       "<table border=\"1\" class=\"dataframe\">\n",
       "  <thead>\n",
       "    <tr style=\"text-align: right;\">\n",
       "      <th></th>\n",
       "      <th>RowNumber</th>\n",
       "      <th>CustomerId</th>\n",
       "      <th>Surname</th>\n",
       "      <th>CreditScore</th>\n",
       "      <th>Geography</th>\n",
       "      <th>Gender</th>\n",
       "      <th>Age</th>\n",
       "      <th>Tenure</th>\n",
       "      <th>Balance</th>\n",
       "      <th>NumOfProducts</th>\n",
       "      <th>HasCrCard</th>\n",
       "      <th>IsActiveMember</th>\n",
       "      <th>EstimatedSalary</th>\n",
       "      <th>Exited</th>\n",
       "    </tr>\n",
       "  </thead>\n",
       "  <tbody>\n",
       "    <tr>\n",
       "      <th>0</th>\n",
       "      <td>1</td>\n",
       "      <td>15634602</td>\n",
       "      <td>Hargrave</td>\n",
       "      <td>619</td>\n",
       "      <td>France</td>\n",
       "      <td>Female</td>\n",
       "      <td>42.0</td>\n",
       "      <td>2</td>\n",
       "      <td>0.00</td>\n",
       "      <td>1</td>\n",
       "      <td>1.0</td>\n",
       "      <td>1.0</td>\n",
       "      <td>101348.88</td>\n",
       "      <td>1</td>\n",
       "    </tr>\n",
       "    <tr>\n",
       "      <th>1</th>\n",
       "      <td>2</td>\n",
       "      <td>15647311</td>\n",
       "      <td>Hill</td>\n",
       "      <td>608</td>\n",
       "      <td>Spain</td>\n",
       "      <td>Female</td>\n",
       "      <td>41.0</td>\n",
       "      <td>1</td>\n",
       "      <td>83807.86</td>\n",
       "      <td>1</td>\n",
       "      <td>0.0</td>\n",
       "      <td>1.0</td>\n",
       "      <td>112542.58</td>\n",
       "      <td>0</td>\n",
       "    </tr>\n",
       "    <tr>\n",
       "      <th>2</th>\n",
       "      <td>3</td>\n",
       "      <td>15619304</td>\n",
       "      <td>Onio</td>\n",
       "      <td>502</td>\n",
       "      <td>France</td>\n",
       "      <td>Female</td>\n",
       "      <td>42.0</td>\n",
       "      <td>8</td>\n",
       "      <td>159660.80</td>\n",
       "      <td>3</td>\n",
       "      <td>1.0</td>\n",
       "      <td>0.0</td>\n",
       "      <td>113931.57</td>\n",
       "      <td>1</td>\n",
       "    </tr>\n",
       "    <tr>\n",
       "      <th>3</th>\n",
       "      <td>4</td>\n",
       "      <td>15701354</td>\n",
       "      <td>Boni</td>\n",
       "      <td>699</td>\n",
       "      <td>France</td>\n",
       "      <td>Female</td>\n",
       "      <td>39.0</td>\n",
       "      <td>1</td>\n",
       "      <td>0.00</td>\n",
       "      <td>2</td>\n",
       "      <td>0.0</td>\n",
       "      <td>0.0</td>\n",
       "      <td>93826.63</td>\n",
       "      <td>0</td>\n",
       "    </tr>\n",
       "    <tr>\n",
       "      <th>4</th>\n",
       "      <td>5</td>\n",
       "      <td>15737888</td>\n",
       "      <td>Mitchell</td>\n",
       "      <td>850</td>\n",
       "      <td>Spain</td>\n",
       "      <td>Female</td>\n",
       "      <td>43.0</td>\n",
       "      <td>2</td>\n",
       "      <td>125510.82</td>\n",
       "      <td>1</td>\n",
       "      <td>NaN</td>\n",
       "      <td>1.0</td>\n",
       "      <td>79084.10</td>\n",
       "      <td>0</td>\n",
       "    </tr>\n",
       "  </tbody>\n",
       "</table>\n",
       "</div>"
      ],
      "text/plain": [
       "   RowNumber  CustomerId   Surname  CreditScore Geography  Gender   Age  \\\n",
       "0          1    15634602  Hargrave          619    France  Female  42.0   \n",
       "1          2    15647311      Hill          608     Spain  Female  41.0   \n",
       "2          3    15619304      Onio          502    France  Female  42.0   \n",
       "3          4    15701354      Boni          699    France  Female  39.0   \n",
       "4          5    15737888  Mitchell          850     Spain  Female  43.0   \n",
       "\n",
       "   Tenure    Balance  NumOfProducts  HasCrCard  IsActiveMember  \\\n",
       "0       2       0.00              1        1.0             1.0   \n",
       "1       1   83807.86              1        0.0             1.0   \n",
       "2       8  159660.80              3        1.0             0.0   \n",
       "3       1       0.00              2        0.0             0.0   \n",
       "4       2  125510.82              1        NaN             1.0   \n",
       "\n",
       "   EstimatedSalary  Exited  \n",
       "0        101348.88       1  \n",
       "1        112542.58       0  \n",
       "2        113931.57       1  \n",
       "3         93826.63       0  \n",
       "4         79084.10       0  "
      ]
     },
     "execution_count": 4,
     "metadata": {},
     "output_type": "execute_result"
    }
   ],
   "source": [
    "# step 2 load dataset\n",
    "df = pd.read_csv(\"Churn_Modelling.csv\") \n",
    "df.head()"
   ]
  },
  {
   "cell_type": "code",
   "execution_count": 3,
   "id": "9f7d7c43-5a6b-41ef-aa1e-c9ce664c3b30",
   "metadata": {},
   "outputs": [
    {
     "name": "stdout",
     "output_type": "stream",
     "text": [
      "shape: (10002, 14)\n"
     ]
    }
   ],
   "source": [
    "print(\"shape:\",df.shape)"
   ]
  },
  {
   "cell_type": "code",
   "execution_count": 6,
   "id": "cee453c2-3832-41b2-8eb5-a573867dde69",
   "metadata": {},
   "outputs": [
    {
     "name": "stdout",
     "output_type": "stream",
     "text": [
      "Missing values:\n",
      " CreditScore        0\n",
      "Geography          1\n",
      "Gender             0\n",
      "Age                1\n",
      "Tenure             0\n",
      "Balance            0\n",
      "NumOfProducts      0\n",
      "HasCrCard          1\n",
      "IsActiveMember     1\n",
      "EstimatedSalary    0\n",
      "Exited             0\n",
      "dtype: int64\n"
     ]
    }
   ],
   "source": [
    "#step 3 clean dataset(remove irrelevant columns)\n",
    "df.drop([\"RowNumber\", \"CustomerId\", \"Surname\"], axis=1, inplace=True)\n",
    "#check for missing values\n",
    "print(\"Missing values:\\n\", df.isnull().sum())"
   ]
  },
  {
   "cell_type": "code",
   "execution_count": 8,
   "id": "e5079422-6c9d-4acb-8e5c-bf6134c9cb66",
   "metadata": {},
   "outputs": [],
   "source": [
    "# handling missing data\n",
    "#Fill categorical columns with mode (most frequent value)\n",
    "df['Geography'] = df['Geography'].fillna(df['Geography'].mode()[0])\n",
    "df['HasCrCard'] = df['HasCrCard'].fillna(df['HasCrCard'].mode()[0])\n",
    "df['IsActiveMember'] = df['IsActiveMember'].fillna(df['IsActiveMember'].mode()[0])\n",
    "# Fill numerical column with median\n",
    "df['Age'] = df['Age'].fillna(df['Age'].median())"
   ]
  },
  {
   "cell_type": "code",
   "execution_count": 10,
   "id": "fe8dc551-fc93-4e56-a128-f034a0d2fdb6",
   "metadata": {},
   "outputs": [],
   "source": [
    "# step 4 encoding categorical columns\n",
    "from sklearn.preprocessing import LabelEncoder\n",
    "\n",
    "le = LabelEncoder()\n",
    "df['Gender'] = le.fit_transform(df['Gender'])\n",
    "df=pd.get_dummies(df,columns=[\"Geography\"], drop_first=True)"
   ]
  },
  {
   "cell_type": "code",
   "execution_count": 13,
   "id": "4e696de1-54b7-4e9d-8ccf-a2f1009fab06",
   "metadata": {},
   "outputs": [],
   "source": [
    "# step 5 Feature Scaling.\n",
    "X=df.drop(\"Exited\", axis=1)\n",
    "y=df[\"Exited\"]\n",
    "scaler=StandardScaler()\n",
    "X_scaled=scaler.fit_transform(X)"
   ]
  },
  {
   "cell_type": "code",
   "execution_count": 16,
   "id": "29f22ad3-0628-43c1-b335-d4fc0850e463",
   "metadata": {},
   "outputs": [
    {
     "name": "stdout",
     "output_type": "stream",
     "text": [
      "Accuracy: 0.8060969515242379\n",
      "\n",
      "Confusion Matrix:\n",
      " [[1534   59]\n",
      " [ 329   79]]\n",
      "\n",
      "Classification Report:\n",
      "               precision    recall  f1-score   support\n",
      "\n",
      "           0       0.82      0.96      0.89      1593\n",
      "           1       0.57      0.19      0.29       408\n",
      "\n",
      "    accuracy                           0.81      2001\n",
      "   macro avg       0.70      0.58      0.59      2001\n",
      "weighted avg       0.77      0.81      0.77      2001\n",
      "\n"
     ]
    }
   ],
   "source": [
    "# step 6:Model Training\n",
    "X_train, X_test, y_train, y_test=train_test_split(X_scaled, y, test_size=0.2, random_state=42, stratify=y)\n",
    "model = LogisticRegression()\n",
    "model.fit(X_train, y_train)\n",
    "y_pred = model.predict(X_test)\n",
    "# Evaluate the model\n",
    "print(\"Accuracy:\", accuracy_score(y_test, y_pred))\n",
    "print(\"\\nConfusion Matrix:\\n\", confusion_matrix(y_test, y_pred))\n",
    "print(\"\\nClassification Report:\\n\", classification_report(y_test, y_pred))"
   ]
  },
  {
   "cell_type": "code",
   "execution_count": 18,
   "id": "e536a0dc-762a-4205-a7da-b7bc0bc8a6a8",
   "metadata": {},
   "outputs": [],
   "source": [
    "#Step 7: Train Other Classification Models & Compare Performance\n",
    "from sklearn.tree import DecisionTreeClassifier\n",
    "from sklearn.ensemble import RandomForestClassifier\n",
    "from sklearn.svm import SVC\n",
    "from sklearn.neighbors import KNeighborsClassifier"
   ]
  },
  {
   "cell_type": "code",
   "execution_count": 19,
   "id": "fe1c31aa-7330-4dcb-ba23-47536f1c2e62",
   "metadata": {},
   "outputs": [
    {
     "name": "stdout",
     "output_type": "stream",
     "text": [
      "Decision Tree Accuracy: 0.7746\n",
      "Random Forest Accuracy: 0.8666\n",
      "SVM Accuracy: 0.8601\n",
      "KNN Accuracy: 0.8221\n"
     ]
    }
   ],
   "source": [
    "models = {\n",
    "    \"Decision Tree\": DecisionTreeClassifier(random_state=42),\n",
    "    \"Random Forest\": RandomForestClassifier(random_state=42),\n",
    "    \"SVM\": SVC(random_state=42),\n",
    "    \"KNN\": KNeighborsClassifier()\n",
    "}\n",
    "for name, model in models.items():\n",
    "    model.fit(X_train, y_train)\n",
    "    y_pred = model.predict(X_test)\n",
    "    accuracy = accuracy_score(y_test, y_pred)\n",
    "    print(f\"{name} Accuracy: {accuracy:.4f}\")"
   ]
  },
  {
   "cell_type": "code",
   "execution_count": 23,
   "id": "6e946304-ecce-47c8-ad46-7786c26891ae",
   "metadata": {},
   "outputs": [
    {
     "data": {
      "image/png": "[encoded data removed]",
      "text/plain": [
       "<Figure size 1000x600 with 1 Axes>"
      ]
     },
     "metadata": {},
     "output_type": "display_data"
    }
   ],
   "source": [
    "\n",
    "# Get feature importances from Random Forest\n",
    "from sklearn.ensemble import RandomForestClassifier\n",
    "\n",
    "# Train a Random Forest just to get feature importances\n",
    "rf_model = RandomForestClassifier(random_state=42)\n",
    "rf_model.fit(X_train, y_train)\n",
    "\n",
    "# Get and plot feature importances\n",
    "importances = rf_model.feature_importances_\n",
    "feature_names = X.columns\n",
    "\n",
    "plt.figure(figsize=(10, 6))\n",
    "plt.barh(feature_names, importances, color='lightgreen')\n",
    "plt.xlabel(\"Feature Importance\")\n",
    "plt.title(\"Feature Importance from Random Forest\")\n",
    "plt.tight_layout()\n",
    "plt.show()\n"
   ]
  },
  {
   "cell_type": "markdown",
   "id": "3f72dcf2-7c55-48f1-8c84-74ddb55d61cb",
   "metadata": {},
   "source": [
    "📌 Conclusion\n",
    "In this project, we developed a machine learning model to predict customer churn using a bank dataset. The overall workflow included data preprocessing, exploratory analysis, encoding of categorical variables, feature selection, model training, and evaluation.\n",
    "\n",
    "✅ Key Highlights:\n",
    "Missing values in columns like Geography, IsActiveMember, HasCrCard, and Age were successfully handled using appropriate strategies like mode and median imputation.\n",
    "\n",
    "Categorical variables were encoded using one-hot encoding for Geography and label encoding for Gender.\n",
    "\n",
    "A Random Forest Classifier was used due to its high accuracy and interpretability.\n",
    "\n",
    "The model achieved a strong accuracy, precision, and recall score, indicating its reliability in predicting churn.\n",
    "\n",
    "Feature importance analysis showed that:\n",
    "\n",
    "Age, EstimatedSalary, and CreditScore were the most influential factors in determining customer churn.\n",
    "\n",
    "Features like Gender and HasCrCard had relatively low importance.\n",
    "\n",
    "📈 Business Insight:\n",
    "Understanding which customers are likely to leave helps the bank focus its retention efforts on high-risk segments. For example:\n",
    "\n",
    "Older customers with low credit scores and high balances may require special attention.\n",
    "\n",
    "Less active members might be engaged through personalized offers.\n",
    "\n",
    "🔧 Future Work:\n",
    "Incorporate more customer behavior data (e.g., transactions, feedback).\n",
    "\n",
    "Apply hyperparameter tuning to further improve model performance.\n",
    "\n",
    "Test other models like XGBoost or Gradient Boosting for comparison.\n"
   ]
  },
  {
   "cell_type": "code",
   "execution_count": null,
   "id": "80bc6516-2493-4f24-bde8-a18410e1d059",
   "metadata": {},
   "outputs": [],
   "source": []
  }
 ],
 "metadata": {
  "kernelspec": {
   "display_name": "Python 3 (ipykernel)",
   "language": "python",
   "name": "python3"
  },
  "language_info": {
   "codemirror_mode": {
    "name": "ipython",
    "version": 3
   },
   "file_extension": ".py",
   "mimetype": "text/x-python",
   "name": "python",
   "nbconvert_exporter": "python",
   "pygments_lexer": "ipython3",
   "version": "3.13.3"
  }
 },
 "nbformat": 4,
 "nbformat_minor": 5
}
